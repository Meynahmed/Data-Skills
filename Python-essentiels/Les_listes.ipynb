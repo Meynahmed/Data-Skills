{
 "cells": [
  {
   "cell_type": "markdown",
   "id": "6a9b8b96",
   "metadata": {},
   "source": [
    "1. définition et manipulation des listes :\n",
    "Liste : c'est une suite d'éléments qui peuvent etre des entiers, des flottant ou encore des chaines de caractères.\n",
    "Déclaration d'une liste : \n",
    "- Se declarent entre crochet. \n",
    "- les éléments d'une liste sont separés par une virgule."
   ]
  },
  {
   "cell_type": "code",
   "execution_count": 1,
   "id": "f5e60ffa",
   "metadata": {},
   "outputs": [
    {
     "data": {
      "text/plain": [
       "[3, 5, 12, 'bonjour', 90.5, 'ça', 'va']"
      ]
     },
     "execution_count": 1,
     "metadata": {},
     "output_type": "execute_result"
    }
   ],
   "source": [
    "# Exemple 1\n",
    "# declarer ma liste \n",
    "liste_1 = [3, 5, 12, \"bonjour\", 90.5, \"ça\", \"va\"]  \n",
    "# afficher ma liste\n",
    "liste_1 "
   ]
  },
  {
   "cell_type": "markdown",
   "id": "0e9e1372",
   "metadata": {},
   "source": [
    "Indexation :\n",
    "- Les indices de la liste commencent de 0. \n",
    "- Si on commence par la fin de la liste, les indices commencent par -1."
   ]
  },
  {
   "cell_type": "code",
   "execution_count": 2,
   "id": "345afcfd",
   "metadata": {},
   "outputs": [
    {
     "name": "stdout",
     "output_type": "stream",
     "text": [
      "bonjour\n"
     ]
    }
   ],
   "source": [
    "# Affichage du 4ème élément de la liste\n",
    "print(liste_1[3])"
   ]
  },
  {
   "cell_type": "code",
   "execution_count": 3,
   "id": "37e1b388",
   "metadata": {},
   "outputs": [
    {
     "name": "stdout",
     "output_type": "stream",
     "text": [
      "va\n",
      "90.5\n"
     ]
    }
   ],
   "source": [
    "# Affichage du dernier élément de la liste\n",
    "print(liste_1[-1])\n",
    "# Affichage du 3ème élément en partant de la fin\n",
    "print(liste_1[-3])"
   ]
  },
  {
   "cell_type": "code",
   "execution_count": 4,
   "id": "16230a09",
   "metadata": {},
   "outputs": [
    {
     "data": {
      "text/plain": [
       "[3, 5, 50, 'bonjour', 90.5, 'ça', 'va']"
      ]
     },
     "execution_count": 4,
     "metadata": {},
     "output_type": "execute_result"
    }
   ],
   "source": [
    "# Mettre à jour un élément d'une liste\n",
    "liste_1[2] = 50 # On remplace le 3ème élément par 50 \n",
    "liste_1"
   ]
  },
  {
   "cell_type": "code",
   "execution_count": 5,
   "id": "da3f4351",
   "metadata": {},
   "outputs": [
    {
     "data": {
      "text/plain": [
       "[3, 5, 50]"
      ]
     },
     "execution_count": 5,
     "metadata": {},
     "output_type": "execute_result"
    }
   ],
   "source": [
    "# Accéder au trois premiers éléments de la liste\n",
    "liste_1[:3] "
   ]
  },
  {
   "cell_type": "code",
   "execution_count": 6,
   "id": "2f4414bc",
   "metadata": {},
   "outputs": [
    {
     "data": {
      "text/plain": [
       "[90.5, 'ça', 'va']"
      ]
     },
     "execution_count": 6,
     "metadata": {},
     "output_type": "execute_result"
    }
   ],
   "source": [
    "# Accéder au trois derniers éléments de la liste\n",
    "liste_1[-3:]  "
   ]
  },
  {
   "cell_type": "code",
   "execution_count": 7,
   "id": "406bd2e7",
   "metadata": {},
   "outputs": [
    {
     "data": {
      "text/plain": [
       "[5, 'bonjour']"
      ]
     },
     "execution_count": 7,
     "metadata": {},
     "output_type": "execute_result"
    }
   ],
   "source": [
    "# Affichage des éléments entre l'indice 1 et l'indice 5 non inclu avec un saut d'un élément\n",
    "liste_1[1:5:2] "
   ]
  },
  {
   "cell_type": "markdown",
   "id": "32056132",
   "metadata": {},
   "source": [
    "2. Méthodes des listes\n",
    "Syntaxe pour appliquer une méthode à une liste : \n",
    "\n",
    "nom_liste.methode(arguments)"
   ]
  },
  {
   "cell_type": "markdown",
   "id": "b71f2e19",
   "metadata": {},
   "source": [
    "2.1 Méthode pop : pour supprimer un élément d'une liste"
   ]
  },
  {
   "cell_type": "code",
   "execution_count": 8,
   "id": "d8174852",
   "metadata": {},
   "outputs": [
    {
     "data": {
      "text/plain": [
       "[3, 5, 12, 'bonjour', 'ça', 'va']"
      ]
     },
     "execution_count": 8,
     "metadata": {},
     "output_type": "execute_result"
    }
   ],
   "source": [
    "# Exemple : supprimons le 3ème élément de la liste liste_1 en partant de la fin\n",
    "liste_1 = [3, 5, 12, \"bonjour\", 90.5, \"ça\", \"va\"]\n",
    "\n",
    "liste_1.pop(-3)\n",
    "\n",
    "liste_1"
   ]
  },
  {
   "cell_type": "markdown",
   "id": "55a045df",
   "metadata": {},
   "source": [
    "2.2 Méthode insert : insérer un élémént dans une liste à une position précise\n",
    "    "
   ]
  },
  {
   "cell_type": "code",
   "execution_count": 9,
   "id": "e65f52b3",
   "metadata": {},
   "outputs": [
    {
     "data": {
      "text/plain": [
       "[3, 5, 'oui', 12, 'bonjour', 'ça', 'va']"
      ]
     },
     "execution_count": 9,
     "metadata": {},
     "output_type": "execute_result"
    }
   ],
   "source": [
    "# Exemple : du mot oui à la position 2\n",
    "liste_1.insert(2, \"oui\")\n",
    "liste_1"
   ]
  },
  {
   "cell_type": "markdown",
   "id": "a65ca0ab",
   "metadata": {},
   "source": [
    "2.3 Méthode append : permet de rajouter un élément à la fin d'une liste "
   ]
  },
  {
   "cell_type": "code",
   "execution_count": 12,
   "id": "dc3cab72",
   "metadata": {},
   "outputs": [
    {
     "name": "stdout",
     "output_type": "stream",
     "text": [
      "[2, 17, 30, 45, 68, 23, 67, 98]\n",
      "[2, 17, 30, 45, 68, 23, 67, 98, 1000]\n"
     ]
    }
   ],
   "source": [
    "# Exemple \n",
    "liste_2 = [2, 17, 30, 45, 68, 23, 67, 98]\n",
    "print(liste_2)\n",
    "\n",
    "liste_2.append(1000)\n",
    "print(liste_2)"
   ]
  },
  {
   "cell_type": "markdown",
   "id": "6e3e7b27",
   "metadata": {},
   "source": [
    "2.4 Méthode extend : permet de fusionner deux listes\n",
    "\n",
    "syntaxe : \n",
    "  nom_de_liste1.extend(nom_de_liste2) : on ajoute la liste2 à la fin de la liste1"
   ]
  },
  {
   "cell_type": "code",
   "execution_count": 13,
   "id": "316142fb",
   "metadata": {},
   "outputs": [
    {
     "data": {
      "text/plain": [
       "[2, 17, 30, 45, 68, 23, 67, 98, 'salut', 456, 'Merci', 8000]"
      ]
     },
     "execution_count": 13,
     "metadata": {},
     "output_type": "execute_result"
    }
   ],
   "source": [
    "# Exemple : on rajoute la liste 3 à la fin de la liste 2\n",
    "liste_2 = [2, 17, 30, 45, 68, 23, 67, 98]\n",
    "liste_3 = [\"salut\", 456, \"Merci\", 8000]\n",
    "liste_2.extend(liste_3)\n",
    "liste_2"
   ]
  },
  {
   "cell_type": "markdown",
   "id": "1ec9fc3c",
   "metadata": {},
   "source": [
    "2.5 Méthode sort\n",
    "\n",
    "- Permet de trier une liste dans l'ordre croissant pour les nombres\n",
    "- Permet de trier dans l'ordre alphabetique les mots (chaine de carectère)"
   ]
  },
  {
   "cell_type": "code",
   "execution_count": 14,
   "id": "7c99a56c",
   "metadata": {},
   "outputs": [
    {
     "data": {
      "text/plain": [
       "[2, 3, 7, 17, 23, 30, 45, 67, 68, 98, 325, 1000, 10000]"
      ]
     },
     "execution_count": 14,
     "metadata": {},
     "output_type": "execute_result"
    }
   ],
   "source": [
    "# Exemple 1 :\n",
    "liste_4 = [2, 17, 30, 45, 1000, 325, 10000, 3, 7, 68, 23, 67, 98]\n",
    "liste_4.sort()\n",
    "liste_4"
   ]
  },
  {
   "cell_type": "code",
   "execution_count": 15,
   "id": "fceb6672",
   "metadata": {},
   "outputs": [
    {
     "data": {
      "text/plain": [
       "['Marc', 'Olivier', 'Patrick', 'Paul', 'Pierre', 'Scott']"
      ]
     },
     "execution_count": 15,
     "metadata": {},
     "output_type": "execute_result"
    }
   ],
   "source": [
    "# Exemple 2\n",
    "liste_4 = [\"Olivier\", \"Pierre\", \"Patrick\", \"Marc\", \"Paul\", \"Scott\"]\n",
    "liste_4.sort()\n",
    "liste_4"
   ]
  },
  {
   "cell_type": "markdown",
   "id": "dd872533",
   "metadata": {},
   "source": [
    "Pour classer une liste numérique dans l'ordre décroissant ou une liste de mots dans l'ordre anti-alphabétique, on utilise l'argument reverse."
   ]
  },
  {
   "cell_type": "code",
   "execution_count": 16,
   "id": "01e2d248",
   "metadata": {},
   "outputs": [
    {
     "data": {
      "text/plain": [
       "['Scott', 'Pierre', 'Paul', 'Patrick', 'Olivier', 'Marc']"
      ]
     },
     "execution_count": 16,
     "metadata": {},
     "output_type": "execute_result"
    }
   ],
   "source": [
    "# Exemple 3\n",
    "liste_4.sort(reverse = True)\n",
    "liste_4"
   ]
  },
  {
   "cell_type": "markdown",
   "id": "1fd416c0",
   "metadata": {},
   "source": [
    "2.6 Méthode count\n",
    "\n",
    "- Permet de compter le nombre de répétition d'un élément dans votre liste"
   ]
  },
  {
   "cell_type": "code",
   "execution_count": 18,
   "id": "47b8dd3a",
   "metadata": {},
   "outputs": [
    {
     "name": "stdout",
     "output_type": "stream",
     "text": [
      "Le nombre de fois ou l'élément 7 apparait dans la liste est de 2\n"
     ]
    }
   ],
   "source": [
    "# Exemple :\n",
    "liste_5 = [2, 17, 30, 45, 1000, 325, 10000, 3, 7, 68, 23, 67, 98, 7, 45, 45, 12, 22]  \n",
    "print(\"Le nombre de fois ou l'élément 7 apparait dans la liste est de\", liste_8.count(7))"
   ]
  },
  {
   "cell_type": "markdown",
   "id": "d0ce4f63",
   "metadata": {},
   "source": [
    "2.7 Méthode len\n",
    "\n",
    "- Permet de compter le nombre d'éléments dans votre liste"
   ]
  },
  {
   "cell_type": "code",
   "execution_count": 19,
   "id": "427d954b",
   "metadata": {},
   "outputs": [
    {
     "name": "stdout",
     "output_type": "stream",
     "text": [
      "la liste liste_5 a 18 élémnents\n"
     ]
    }
   ],
   "source": [
    "# Exemple:\n",
    "print(\"la liste liste_5 a\", len(liste_5), \"élémnents\")"
   ]
  },
  {
   "cell_type": "markdown",
   "id": "3d76ee7b",
   "metadata": {},
   "source": [
    "La liste compréhension : Méthode plus simple d'utiliser des boucles for et des conditions sur les listes."
   ]
  },
  {
   "cell_type": "code",
   "execution_count": 20,
   "id": "1535e091",
   "metadata": {},
   "outputs": [
    {
     "name": "stdout",
     "output_type": "stream",
     "text": [
      "['Positif', 'Positif', 'Positif', 'Négatif', 'Positif', 'Négatif', 'Positif', 'Positif', 'Négatif', 'Positif']\n"
     ]
    }
   ],
   "source": [
    "# Exemple : afficher \"positif\" si le nombre est positif et \"négatif\" si le nombre est négatif\n",
    "liste_6 = [2, 5, 12, -2, 45, -9, 22, 80, -12, 47]\n",
    "liste_signe = [\"Positif\" if nombre > 0 else \"Négatif\" for nombre in liste_6]\n",
    "print(liste_signe)"
   ]
  },
  {
   "cell_type": "markdown",
   "id": "7a4409a4",
   "metadata": {},
   "source": [
    "Fonction enumerate : On accède à un élément et à son indice"
   ]
  },
  {
   "cell_type": "code",
   "execution_count": 21,
   "id": "d8687e91",
   "metadata": {},
   "outputs": [
    {
     "name": "stdout",
     "output_type": "stream",
     "text": [
      "Ce mot se trouve à l'indice 5\n"
     ]
    }
   ],
   "source": [
    "# Exemple\n",
    "liste_mots = [\"Bonjour\", \"à\", \"toutes\", \"et\", \"à\", \"tous\", \"et\", \"bienvenue\", \"dans\", \"ce\", \"tuto\"]\n",
    "for indice, mot in enumerate(liste_mots):\n",
    "    if mot == \"tous\":\n",
    "        print(\"Ce mot se trouve à l'indice\", indice)"
   ]
  },
  {
   "cell_type": "markdown",
   "id": "43ca438e",
   "metadata": {},
   "source": [
    "Fonction zip: nous permet de parcourir deux liste de meme taille"
   ]
  },
  {
   "cell_type": "code",
   "execution_count": 22,
   "id": "a967a4ad",
   "metadata": {},
   "outputs": [
    {
     "name": "stdout",
     "output_type": "stream",
     "text": [
      "[104, 105, 198, 955, 1660, 3150, 1180]\n"
     ]
    }
   ],
   "source": [
    "# Exemple\n",
    "prix_initiaux = [139, 145, 268, 1100, 2000, 3550, 1300]\n",
    "reductions = [35, 40, 70, 145, 340, 400, 120]\n",
    "\n",
    "prix_finaux =[]\n",
    "for prix, reduction in zip(prix_initiaux, reductions):\n",
    "    prix_final = prix - reduction\n",
    "    prix_finaux.append(prix_final)\n",
    "print(prix_finaux)"
   ]
  },
  {
   "cell_type": "code",
   "execution_count": null,
   "id": "d055de13",
   "metadata": {},
   "outputs": [],
   "source": []
  }
 ],
 "metadata": {
  "kernelspec": {
   "display_name": "Python 3 (ipykernel)",
   "language": "python",
   "name": "python3"
  },
  "language_info": {
   "codemirror_mode": {
    "name": "ipython",
    "version": 3
   },
   "file_extension": ".py",
   "mimetype": "text/x-python",
   "name": "python",
   "nbconvert_exporter": "python",
   "pygments_lexer": "ipython3",
   "version": "3.10.9"
  }
 },
 "nbformat": 4,
 "nbformat_minor": 5
}

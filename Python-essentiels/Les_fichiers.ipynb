{
 "cells": [
  {
   "cell_type": "markdown",
   "id": "8ebfe4c8",
   "metadata": {},
   "source": [
    "Les fichiers : \n",
    "On ouvre un fichier avec une extension qu'on aura choisi et on lui applique le mode. \n",
    "Les différents modes :\n",
    "- Ecriture : w\n",
    "- Lecture : r\n",
    "- Ajout à la fin (si le fichier n'existe pas, il sera créer) : a"
   ]
  },
  {
   "cell_type": "code",
   "execution_count": 1,
   "id": "65b48963",
   "metadata": {},
   "outputs": [
    {
     "data": {
      "text/plain": [
       "'Bonjour à tous !'"
      ]
     },
     "execution_count": 1,
     "metadata": {},
     "output_type": "execute_result"
    }
   ],
   "source": [
    "# Syntaxe*\n",
    "\n",
    "# Ouverture en écriture (ou création du fichier test.txt s'il n'existe pas)\n",
    "file = open(\"test.txt\", \"w\")  \n",
    "\n",
    "# Ecriture dans le fichier\n",
    "file.write(\"Bonjour à tous !\")\n",
    "\n",
    "# Ouverture en lecture du fichier test.txt\n",
    "file = open(\"test.txt\", \"r\")\n",
    "\n",
    "# Lecture du fichier \n",
    "file.read()"
   ]
  },
  {
   "cell_type": "code",
   "execution_count": 3,
   "id": "1ae4774e",
   "metadata": {},
   "outputs": [
    {
     "name": "stdout",
     "output_type": "stream",
     "text": [
      "Bonjour à tous !\n"
     ]
    }
   ],
   "source": [
    "# Affichage du contenu du fichier test.txt\n",
    "!type test.txt  \n"
   ]
  },
  {
   "cell_type": "code",
   "execution_count": 19,
   "id": "44aa7a29",
   "metadata": {},
   "outputs": [],
   "source": [
    "# Réecrivons dans notre fichier\n",
    "with open(\"test.txt\", \"a\") as file:\n",
    "    file.write(\"Bienvenu dans ce mini tuto\")\n",
    "    file.close()\n",
    "    \n",
    "    "
   ]
  },
  {
   "cell_type": "code",
   "execution_count": 15,
   "id": "6477ba38",
   "metadata": {},
   "outputs": [
    {
     "name": "stdout",
     "output_type": "stream",
     "text": [
      "Bonjour à tousBienvenu dans ce mini tutoBienvenu dans ce mini tuto \n",
      "Bienvenu dans ce mini tuto Bienvenu dans ce mini tuto /nBienvenu dans ce mini tuto\n"
     ]
    }
   ],
   "source": [
    "# Affichage du contenu du fichier test.txt\n",
    "!type test.txt"
   ]
  },
  {
   "cell_type": "code",
   "execution_count": null,
   "id": "1202e701",
   "metadata": {},
   "outputs": [],
   "source": []
  }
 ],
 "metadata": {
  "kernelspec": {
   "display_name": "Python 3 (ipykernel)",
   "language": "python",
   "name": "python3"
  },
  "language_info": {
   "codemirror_mode": {
    "name": "ipython",
    "version": 3
   },
   "file_extension": ".py",
   "mimetype": "text/x-python",
   "name": "python",
   "nbconvert_exporter": "python",
   "pygments_lexer": "ipython3",
   "version": "3.10.9"
  }
 },
 "nbformat": 4,
 "nbformat_minor": 5
}

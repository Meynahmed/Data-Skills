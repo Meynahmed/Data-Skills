{
 "cells": [
  {
   "cell_type": "markdown",
   "id": "152ad5da",
   "metadata": {},
   "source": [
    "Les conditions if, elif et else :\n",
    "- if : si (si une condition est vérifiée, exécutez telle tache) \n",
    "- elif :sinon si (sinon si une autre condition est vérifiée, exécutez telle tache)\n",
    "- else : sinon (toutes les conditions qui ne sont pas vérifiées par les deux premières)\n",
    "\n",
    "Syntaxe :\n",
    "\n",
    "if conditions : \n",
    "\n",
    "    instructions \n",
    "   \n",
    "elif conditions : \n",
    "\n",
    "    instructions \n",
    "    \n",
    "else : \n",
    "\n",
    "    instructions"
   ]
  },
  {
   "cell_type": "code",
   "execution_count": 1,
   "id": "2f639dd5",
   "metadata": {},
   "outputs": [
    {
     "name": "stdout",
     "output_type": "stream",
     "text": [
      "Entrez un nombre s'il vous plait 5\n",
      "Le nombre que vous aviez entré est positif.\n"
     ]
    }
   ],
   "source": [
    "# Exemple \n",
    "# On demande à l'utilisateur d'entrer un nombre\n",
    "nombre = float(input(\"Entrez un nombre s'il vous plait \"))\n",
    "\n",
    "# Si le nombre est négatif\n",
    "if nombre < 0 :\n",
    "    # Afficher la phrase suivante\n",
    "    print(\"Le nombre que vous aviez entré est négatif.\")\n",
    "\n",
    "# sinon si     \n",
    "elif nombre == 0:\n",
    "    # Afficher la phrase suivante\n",
    "    print(\"Le nombre que vous aviez entré est nul.\")\n",
    "\n",
    "\n",
    "# Sinon     \n",
    "else :\n",
    "    # Afficher la phrase suivante\n",
    "    print(\"Le nombre que vous aviez entré est positif.\")"
   ]
  },
  {
   "cell_type": "code",
   "execution_count": null,
   "id": "1c4cb0a3",
   "metadata": {},
   "outputs": [],
   "source": []
  }
 ],
 "metadata": {
  "kernelspec": {
   "display_name": "Python 3 (ipykernel)",
   "language": "python",
   "name": "python3"
  },
  "language_info": {
   "codemirror_mode": {
    "name": "ipython",
    "version": 3
   },
   "file_extension": ".py",
   "mimetype": "text/x-python",
   "name": "python",
   "nbconvert_exporter": "python",
   "pygments_lexer": "ipython3",
   "version": "3.10.9"
  }
 },
 "nbformat": 4,
 "nbformat_minor": 5
}

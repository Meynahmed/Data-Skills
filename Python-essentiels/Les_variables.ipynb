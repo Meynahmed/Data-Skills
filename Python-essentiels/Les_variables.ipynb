{
 "cells": [
  {
   "cell_type": "code",
   "execution_count": null,
   "id": "0609559c",
   "metadata": {},
   "outputs": [],
   "source": [
    "# La déclaration d'une variable se fait comme suit :\n",
    "# ma_variable = ma_valeur"
   ]
  },
  {
   "cell_type": "code",
   "execution_count": 1,
   "id": "2f203831",
   "metadata": {},
   "outputs": [
    {
     "name": "stdout",
     "output_type": "stream",
     "text": [
      "5\n"
     ]
    }
   ],
   "source": [
    "# Déclaration d'une varible a en lui affectant la valeur 5\n",
    "a = 5  \n",
    "# Affichage de la valeur de la variable\n",
    "print(a)    "
   ]
  },
  {
   "cell_type": "code",
   "execution_count": 2,
   "id": "ea1b4dea",
   "metadata": {},
   "outputs": [
    {
     "name": "stdout",
     "output_type": "stream",
     "text": [
      "10\n"
     ]
    }
   ],
   "source": [
    "# Déclaration d'une variable double qui prend le double de la variable a\n",
    "double = 2*a  \n",
    "# Affichage de la valeur de la variable double\n",
    "print(double)   "
   ]
  },
  {
   "cell_type": "code",
   "execution_count": 3,
   "id": "158afe4c",
   "metadata": {},
   "outputs": [
    {
     "name": "stdout",
     "output_type": "stream",
     "text": [
      "Bonjour à tous\n"
     ]
    }
   ],
   "source": [
    "# une variable peut etre une chaine de caractère\n",
    "var = \"Bonjour à tous\"\n",
    "\n",
    "print(var)"
   ]
  },
  {
   "cell_type": "markdown",
   "id": "66a25b85",
   "metadata": {},
   "source": [
    "Nomenclature des variables :\n",
    "\n",
    "- Il ne faut pas commencer par un chiffre\n",
    "- Il faut commencer par une lettre ou un tiret du bas _\n",
    "- Il ne faut pas que votre variable contienne un espace (utiliser _)\n",
    "- Il ne faut pas que ça contienne des mots réservés comme par exemple : int, float, print, input, str, def, from, import....."
   ]
  }
 ],
 "metadata": {
  "kernelspec": {
   "display_name": "Python 3 (ipykernel)",
   "language": "python",
   "name": "python3"
  },
  "language_info": {
   "codemirror_mode": {
    "name": "ipython",
    "version": 3
   },
   "file_extension": ".py",
   "mimetype": "text/x-python",
   "name": "python",
   "nbconvert_exporter": "python",
   "pygments_lexer": "ipython3",
   "version": "3.10.9"
  }
 },
 "nbformat": 4,
 "nbformat_minor": 5
}

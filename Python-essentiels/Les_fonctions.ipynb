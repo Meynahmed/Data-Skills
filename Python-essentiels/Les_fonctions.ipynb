{
 "cells": [
  {
   "cell_type": "markdown",
   "id": "a5717506",
   "metadata": {},
   "source": [
    "- Une fonction est un bloc d'instruction qui permet de faire une tache bien précise.\n",
    "\n",
    "- Syntaxe : \n",
    "def nom_fonction(arguments): \n",
    "\n",
    "    instructions \n",
    "    return resultat\n",
    "\n",
    "appel de la fonction"
   ]
  },
  {
   "cell_type": "code",
   "execution_count": 1,
   "id": "cc58aef1",
   "metadata": {},
   "outputs": [
    {
     "name": "stdout",
     "output_type": "stream",
     "text": [
      "Le carré du nombre est 36\n"
     ]
    }
   ],
   "source": [
    "# Exemple 1\n",
    "# Une fonction qui calcule le carré d'un nombre\n",
    "\n",
    "def carre(x):\n",
    "    return x**2\n",
    "print(\"Le carré du nombre est\", carre(6))"
   ]
  },
  {
   "cell_type": "code",
   "execution_count": 2,
   "id": "8baa048d",
   "metadata": {},
   "outputs": [
    {
     "name": "stdout",
     "output_type": "stream",
     "text": [
      "Le poids de cette personne est 686.7 Newton\n"
     ]
    }
   ],
   "source": [
    "# Exemple 2\n",
    "# une fonction qui calcule le poids d'une personne p = m*g, g=9.81\n",
    "\n",
    "def poids(m, g):    # Définition de la fonction\n",
    "    p = m*g          # Calcul du poids\n",
    "    return p         # La sortie\n",
    "print(\"Le poids de cette personne est\", poids(70, 9.81), \"Newton\")   # Appel de la fonction poids"
   ]
  },
  {
   "cell_type": "code",
   "execution_count": null,
   "id": "76d4023e",
   "metadata": {},
   "outputs": [],
   "source": []
  }
 ],
 "metadata": {
  "kernelspec": {
   "display_name": "Python 3 (ipykernel)",
   "language": "python",
   "name": "python3"
  },
  "language_info": {
   "codemirror_mode": {
    "name": "ipython",
    "version": 3
   },
   "file_extension": ".py",
   "mimetype": "text/x-python",
   "name": "python",
   "nbconvert_exporter": "python",
   "pygments_lexer": "ipython3",
   "version": "3.10.9"
  }
 },
 "nbformat": 4,
 "nbformat_minor": 5
}

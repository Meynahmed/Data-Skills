{
 "cells": [
  {
   "cell_type": "markdown",
   "id": "d4302703",
   "metadata": {},
   "source": [
    "1. Boucle While\n",
    "\n",
    "La Boucle while : Tant qu'une condition est verifiée, exécutez les instructions.\n",
    "\n",
    "Syntaxe :\n",
    "\n",
    "initialisation \n",
    "\n",
    "while condtions : \n",
    "\n",
    "    instructions \n",
    "    \n",
    "    incrementation"
   ]
  },
  {
   "cell_type": "code",
   "execution_count": 1,
   "id": "7173d59b",
   "metadata": {},
   "outputs": [
    {
     "name": "stdout",
     "output_type": "stream",
     "text": [
      "0\n",
      "5\n",
      "10\n",
      "15\n",
      "20\n",
      "25\n",
      "30\n",
      "35\n",
      "40\n",
      "45\n",
      "50\n"
     ]
    }
   ],
   "source": [
    "# Exemple : afficher les dix premiers termes de la table de 5\n",
    "\n",
    "# initialisation \n",
    "i = 0\n",
    "# Boucle tant que \n",
    "while i <= 10 :\n",
    "    # calcul et affichage des termes de la table\n",
    "    print(i*5)   \n",
    "    # incrémentation\n",
    "    i+=1         \n",
    "    "
   ]
  },
  {
   "cell_type": "markdown",
   "id": "f1859fa2",
   "metadata": {},
   "source": [
    "2. Boucle For\n",
    "Boucle for : c'est une boucle qui permet de repeter les instructions de façon plus controlée.\n",
    "\n",
    "Syntaxe :\n",
    "\n",
    "for element in sequence : \n",
    "    \n",
    "    instructions \n",
    "    \n",
    "    autres instructions"
   ]
  },
  {
   "cell_type": "code",
   "execution_count": 2,
   "id": "02d6fa31",
   "metadata": {},
   "outputs": [
    {
     "name": "stdout",
     "output_type": "stream",
     "text": [
      "b\n",
      "o\n",
      "n\n",
      "j\n",
      "o\n",
      "u\n",
      "r\n"
     ]
    }
   ],
   "source": [
    "# Exemple 1 : afficher toutes les lettres d'un mot\n",
    "for lettre in \"bonjour\":\n",
    "    print(lettre)"
   ]
  },
  {
   "cell_type": "code",
   "execution_count": 3,
   "id": "42623ba5",
   "metadata": {},
   "outputs": [
    {
     "name": "stdout",
     "output_type": "stream",
     "text": [
      "100\n",
      "121\n",
      "144\n",
      "169\n",
      "196\n",
      "225\n"
     ]
    }
   ],
   "source": [
    "# Exemple 2 : afficher les carrés des nombres compris entre 10 et 15 avec la fonction range \n",
    "for i in range(10, 16):\n",
    "    print(i**2)"
   ]
  },
  {
   "cell_type": "code",
   "execution_count": null,
   "id": "17baa924",
   "metadata": {},
   "outputs": [],
   "source": []
  }
 ],
 "metadata": {
  "kernelspec": {
   "display_name": "Python 3 (ipykernel)",
   "language": "python",
   "name": "python3"
  },
  "language_info": {
   "codemirror_mode": {
    "name": "ipython",
    "version": 3
   },
   "file_extension": ".py",
   "mimetype": "text/x-python",
   "name": "python",
   "nbconvert_exporter": "python",
   "pygments_lexer": "ipython3",
   "version": "3.10.9"
  }
 },
 "nbformat": 4,
 "nbformat_minor": 5
}

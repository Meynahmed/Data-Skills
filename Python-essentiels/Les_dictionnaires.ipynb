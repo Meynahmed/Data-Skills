{
 "cells": [
  {
   "cell_type": "markdown",
   "id": "3de17c87",
   "metadata": {},
   "source": [
    "Les dictionnaires :\n",
    "\n",
    "- Un dictionnaire est un type de variable qui est representée par une paire clé :valeur\n",
    "- Il est déclaré entre accolades\n",
    "- Les dictionnaires sont des structures dont les éléménts sont indexés librement par des nombres, des mots ou meme des tuples contrairement aux listes ou aux tuples."
   ]
  },
  {
   "cell_type": "code",
   "execution_count": 1,
   "id": "5c7d77f4",
   "metadata": {},
   "outputs": [
    {
     "data": {
      "text/plain": [
       "{'Nom': 'Dupond', 'Prenom': 'Martin', 'age': '50', 'taille': '1.78'}"
      ]
     },
     "execution_count": 1,
     "metadata": {},
     "output_type": "execute_result"
    }
   ],
   "source": [
    "# Exemple 1 : Création d'un dictionnaire\n",
    "dict_1 = {\"Nom\":\"Dupond\", \"Prenom\": \"Martin\", \"age\": \"50\", \"taille\": \"1.78\"}\n",
    "dict_1"
   ]
  },
  {
   "cell_type": "code",
   "execution_count": 2,
   "id": "4ae0a93b",
   "metadata": {},
   "outputs": [
    {
     "data": {
      "text/plain": [
       "'Martin'"
      ]
     },
     "execution_count": 2,
     "metadata": {},
     "output_type": "execute_result"
    }
   ],
   "source": [
    "# accéder à un élémnt (le deuxième ici)\n",
    "dict_1[\"Prenom\"]"
   ]
  },
  {
   "cell_type": "code",
   "execution_count": 4,
   "id": "c7a2b530",
   "metadata": {},
   "outputs": [
    {
     "data": {
      "text/plain": [
       "{'identifiant': '006',\n",
       " 'Nom': 'Marin',\n",
       " 'Prenom': 'Arnaud',\n",
       " 'age': '39',\n",
       " 'genre': 'M'}"
      ]
     },
     "execution_count": 4,
     "metadata": {},
     "output_type": "execute_result"
    }
   ],
   "source": [
    "# Exemple 2 : fiche salarié\n",
    "\n",
    "salarie = {\"identifiant\":\"006\", \"Nom\":\"Marin\", \"Prenom\": \"Arnaud\", \"age\": \"39\", \"genre\":\"M\"}\n",
    "salarie"
   ]
  },
  {
   "cell_type": "code",
   "execution_count": 5,
   "id": "9c59bd8d",
   "metadata": {},
   "outputs": [
    {
     "data": {
      "text/plain": [
       "{'identifiant': '006',\n",
       " 'Nom': 'Marin',\n",
       " 'Prenom': 'Arnaud',\n",
       " 'age': '39',\n",
       " 'genre': 'M',\n",
       " 'taille': 1.805}"
      ]
     },
     "execution_count": 5,
     "metadata": {},
     "output_type": "execute_result"
    }
   ],
   "source": [
    "# rajout d'une nouvelle valeur\n",
    "salarie[\"taille\"] = 1.805\n",
    "salarie"
   ]
  },
  {
   "cell_type": "markdown",
   "id": "00322d5f",
   "metadata": {},
   "source": [
    "Remarque :\n",
    "Certaines méthodes utilisées pour les listes fonctionnent aussi avec les dictionnaires mais pas toutes."
   ]
  }
 ],
 "metadata": {
  "kernelspec": {
   "display_name": "Python 3 (ipykernel)",
   "language": "python",
   "name": "python3"
  },
  "language_info": {
   "codemirror_mode": {
    "name": "ipython",
    "version": 3
   },
   "file_extension": ".py",
   "mimetype": "text/x-python",
   "name": "python",
   "nbconvert_exporter": "python",
   "pygments_lexer": "ipython3",
   "version": "3.10.9"
  }
 },
 "nbformat": 4,
 "nbformat_minor": 5
}

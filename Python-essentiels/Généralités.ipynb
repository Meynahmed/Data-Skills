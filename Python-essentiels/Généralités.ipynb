{
 "cells": [
  {
   "cell_type": "markdown",
   "id": "7cfd003b",
   "metadata": {},
   "source": [
    "Présentation de Jupyter Notebook"
   ]
  },
  {
   "cell_type": "code",
   "execution_count": null,
   "id": "1a2ac73e",
   "metadata": {},
   "outputs": [],
   "source": [
    "# Presentation de jupyter : Deux types de cellules possibles :\n",
    "\"\"\"\n",
    "- Les cellules de code : pour écrire notre programme\n",
    "- les Markdown : pour éditer du texte \n",
    "\n",
    "\"\"\"\n",
    "\n",
    "# Quelques raccourcis :\n",
    "# ctrl + entrée : permet d'exécuter la cellule\n",
    "# echap + B : permet d'ouvrir une nouvelle cellule\n",
    "# echap + Y : permet de passer en cellule de code \n",
    "# echap + M : permet de passer en cellule de texte (Markdown)\n",
    "# echap + X : supprimer une cellule\n"
   ]
  },
  {
   "cell_type": "markdown",
   "id": "e769cb2f",
   "metadata": {},
   "source": [
    "Quelques généralités et bonnes pratiques en Python"
   ]
  },
  {
   "cell_type": "code",
   "execution_count": null,
   "id": "d40a11e1",
   "metadata": {},
   "outputs": [],
   "source": [
    "# Pour commenter sur une ligne on utilise : #\n",
    "# ceci  est un commentaire sur une ligne"
   ]
  },
  {
   "cell_type": "code",
   "execution_count": null,
   "id": "8131ab28",
   "metadata": {},
   "outputs": [],
   "source": [
    "\"\"\"ceci est un \n",
    "commentaire sur plusieurs lignes \n",
    "\"\"\""
   ]
  },
  {
   "cell_type": "code",
   "execution_count": 1,
   "id": "043fa2d6",
   "metadata": {},
   "outputs": [
    {
     "name": "stdout",
     "output_type": "stream",
     "text": [
      "Bonjour le Monde !\n"
     ]
    }
   ],
   "source": [
    "# la fonction print : permet d'afficher un resultat \n",
    "# Exemple \n",
    "print(\"Bonjour le Monde !\")"
   ]
  },
  {
   "cell_type": "code",
   "execution_count": 2,
   "id": "f50c942b",
   "metadata": {},
   "outputs": [
    {
     "name": "stdout",
     "output_type": "stream",
     "text": [
      "Bonjour \n",
      "Salut\n"
     ]
    }
   ],
   "source": [
    "#  saut de ligne en python : \\n\n",
    "# Exemple\n",
    "print(\"Bonjour \\n\" \"Salut\")"
   ]
  },
  {
   "cell_type": "code",
   "execution_count": 3,
   "id": "297f207f",
   "metadata": {},
   "outputs": [
    {
     "name": "stdout",
     "output_type": "stream",
     "text": [
      "Ceci est une démonstration de l'utilisation de l'apostrophe\n"
     ]
    }
   ],
   "source": [
    "# \\ : rajoutre une apostrophe à un commentaire qui est entre deux apostrophes\n",
    "# Exemple\n",
    "print('Ceci est une démonstration de l\\'utilisation de l\\'apostrophe')"
   ]
  },
  {
   "cell_type": "code",
   "execution_count": 4,
   "id": "58b19b34",
   "metadata": {},
   "outputs": [
    {
     "name": "stdout",
     "output_type": "stream",
     "text": [
      "Entrez un nombre entier svp : 5\n"
     ]
    }
   ],
   "source": [
    "# la fonction input : permet de demander à l'utilisateur d'entrée une valeur\n",
    "# Exemple\n",
    "nombre = int(input(\"Entrez un nombre entier svp : \"))"
   ]
  },
  {
   "cell_type": "code",
   "execution_count": null,
   "id": "622433ac",
   "metadata": {},
   "outputs": [],
   "source": [
    "# Les modules : ensemble de fonctions deja pretes qu'on importe.\n",
    "# Exemple de modules : matplotlib (tracer des graphes, numpy(calcul), \n",
    "\n",
    "# pour importer un module on écrit : import nom_module"
   ]
  }
 ],
 "metadata": {
  "kernelspec": {
   "display_name": "Python 3 (ipykernel)",
   "language": "python",
   "name": "python3"
  },
  "language_info": {
   "codemirror_mode": {
    "name": "ipython",
    "version": 3
   },
   "file_extension": ".py",
   "mimetype": "text/x-python",
   "name": "python",
   "nbconvert_exporter": "python",
   "pygments_lexer": "ipython3",
   "version": "3.10.9"
  }
 },
 "nbformat": 4,
 "nbformat_minor": 5
}

{
 "cells": [
  {
   "cell_type": "markdown",
   "id": "eed88737",
   "metadata": {},
   "source": [
    "Il y a plusieurs types d'opérateurs :"
   ]
  },
  {
   "cell_type": "markdown",
   "id": "9787907a",
   "metadata": {},
   "source": [
    "1. Les opérateurs arithmétiques sont :\n",
    "\n",
    "Addition : +\n",
    "Soustraction : -\n",
    "Multiplicattion : *\n",
    "Division réelle : /\n",
    "Division entière : //\n",
    "Reste de la division (Modulo) : %\n",
    "Puissance : **"
   ]
  },
  {
   "cell_type": "code",
   "execution_count": 1,
   "id": "7a957923",
   "metadata": {},
   "outputs": [
    {
     "name": "stdout",
     "output_type": "stream",
     "text": [
      "l'addition de ces deux valeurs est  9\n",
      "la soustractrion de ces deux valeurs est  -3\n",
      "la multiplication de ces deux valeurs est  18\n"
     ]
    }
   ],
   "source": [
    "# Exemple d'opérateurs arithmétiques\n",
    "\n",
    "# Déclaration des variables\n",
    "a = 3\n",
    "b = 6\n",
    "\n",
    "# Addition \n",
    "print('l\\'addition de ces deux valeurs est ', a + b)\n",
    "\n",
    "# Soustraction \n",
    "print('la soustractrion de ces deux valeurs est ', a - b)\n",
    "\n",
    "# Multiplication\n",
    "print('la multiplication de ces deux valeurs est ', a * b)"
   ]
  },
  {
   "cell_type": "code",
   "execution_count": 2,
   "id": "814ecd24",
   "metadata": {},
   "outputs": [
    {
     "name": "stdout",
     "output_type": "stream",
     "text": [
      "La division réelle entre ces deux variables est : 1.6666666666666667\n",
      "La division entière entre ces deux variables est : 1\n",
      "Le reste de la division entre ces deux variables est : 2\n"
     ]
    }
   ],
   "source": [
    "# Déclaration des variables\n",
    "c = 5\n",
    "d = 3\n",
    "\n",
    "# Division réelle \n",
    "print(\"La division réelle entre ces deux variables est :\", c/d)\n",
    "\n",
    "# Division entière\n",
    "print(\"La division entière entre ces deux variables est :\", c//d)\n",
    "\n",
    "# Modulo \n",
    "print(\"Le reste de la division entre ces deux variables est :\", c%d)"
   ]
  },
  {
   "cell_type": "code",
   "execution_count": 3,
   "id": "3f626456",
   "metadata": {},
   "outputs": [
    {
     "name": "stdout",
     "output_type": "stream",
     "text": [
      "125\n"
     ]
    }
   ],
   "source": [
    "# Déclaration des variables\n",
    "var1 = 3\n",
    "var2 = 5\n",
    "\n",
    "# La puissance\n",
    "print(var2**var1)"
   ]
  },
  {
   "cell_type": "markdown",
   "id": "cffaff84",
   "metadata": {},
   "source": [
    "2. Les opérateurs d'affectation\n",
    "\n",
    "- Pour l'addition : i+=1 est équivalente à i = i + 1\n",
    "- Pour la soustraction : i-=1 est équivalente à i = i - 1\n",
    "- Pour la multiplication : i*=1 est équivalente à i = i * 1\n",
    "- Pour la division : i/=1 est équivalente à i = i / 1\n",
    "- Pour la puissance : i**=1 est équivalente à i = i ** 1"
   ]
  },
  {
   "cell_type": "code",
   "execution_count": 5,
   "id": "10e94ae6",
   "metadata": {},
   "outputs": [
    {
     "name": "stdout",
     "output_type": "stream",
     "text": [
      "6\n",
      "24\n"
     ]
    }
   ],
   "source": [
    "# Exemple opérateurs d'affectation\n",
    "i = 2\n",
    "i += 4\n",
    "print(i)\n",
    "i *=4\n",
    "print(i)"
   ]
  },
  {
   "cell_type": "markdown",
   "id": "a547dd42",
   "metadata": {},
   "source": [
    "3. Les opérateurs de comparaison :\n",
    "\n",
    "- Superieur : >\n",
    "- Inférieur : <\n",
    "- Superieur ou égale : >=\n",
    "- Inférieur ou égale : <=\n",
    "- Egale au sens mathématique : ==\n",
    "- Different : !="
   ]
  },
  {
   "cell_type": "code",
   "execution_count": 6,
   "id": "0ee751fb",
   "metadata": {},
   "outputs": [
    {
     "name": "stdout",
     "output_type": "stream",
     "text": [
      "False\n",
      "False\n",
      "True\n",
      "True\n"
     ]
    }
   ],
   "source": [
    "# Exemple opérateurs de comparaison\n",
    "\n",
    "# Déclaration des variables \n",
    "a, b = 10, 14\n",
    "\n",
    "# Test si a est supérieur à b\n",
    "print(a > b)\n",
    "\n",
    "# Test si a est égale à b\n",
    "print(a == b)\n",
    "\n",
    "# Test si a est inférieur ou égale à b\n",
    "print(a <= b)\n",
    "\n",
    "# Test si a est différent de b\n",
    "print(a != b)"
   ]
  },
  {
   "cell_type": "markdown",
   "id": "357ac421",
   "metadata": {},
   "source": [
    "4. Les opérateurs logiques\n",
    "- et (and) : il faut que toutes les conditions soient satisfaites.\n",
    "- ou (or) : il faut q'une des conditions soit satisfaite"
   ]
  },
  {
   "cell_type": "code",
   "execution_count": 7,
   "id": "a0e6caa5",
   "metadata": {},
   "outputs": [
    {
     "name": "stdout",
     "output_type": "stream",
     "text": [
      "False\n",
      "True\n"
     ]
    }
   ],
   "source": [
    "# Exemple d'opérateurs logiques\n",
    "\n",
    "#Déclaration des variables \n",
    "a = 12\n",
    "b = 16\n",
    "\n",
    "# Test si a est supérieur à 10 et b est supérieur à 20\n",
    "print(a > 10 and b > 20)\n",
    "\n",
    "# Test si a est supérieur à 10 ou b est supérieur à 20\n",
    "print(a > 10 or b > 20)"
   ]
  },
  {
   "cell_type": "markdown",
   "id": "1da2c22f",
   "metadata": {},
   "source": [
    "5. Les opérateurs d'appartenance \n",
    "- in : pour tester la présence d'un terme dans une liste par exemple\n",
    "- not in : pour tester l'absence d'un terme dans une liste par exemple"
   ]
  },
  {
   "cell_type": "code",
   "execution_count": 9,
   "id": "bc86b5d8",
   "metadata": {},
   "outputs": [
    {
     "name": "stdout",
     "output_type": "stream",
     "text": [
      "False\n",
      "True\n"
     ]
    }
   ],
   "source": [
    "# Exemple d'opérateurs d'appartenance\n",
    "liste = [3, 5, 5, 12, 22, 30]\n",
    "\n",
    "print(4 in liste)\n",
    "\n",
    "print(10 not in liste)"
   ]
  },
  {
   "cell_type": "code",
   "execution_count": null,
   "id": "6b39fe2a",
   "metadata": {},
   "outputs": [],
   "source": []
  }
 ],
 "metadata": {
  "kernelspec": {
   "display_name": "Python 3 (ipykernel)",
   "language": "python",
   "name": "python3"
  },
  "language_info": {
   "codemirror_mode": {
    "name": "ipython",
    "version": 3
   },
   "file_extension": ".py",
   "mimetype": "text/x-python",
   "name": "python",
   "nbconvert_exporter": "python",
   "pygments_lexer": "ipython3",
   "version": "3.10.9"
  }
 },
 "nbformat": 4,
 "nbformat_minor": 5
}

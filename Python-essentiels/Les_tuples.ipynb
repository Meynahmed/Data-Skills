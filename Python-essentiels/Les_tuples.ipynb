{
 "cells": [
  {
   "cell_type": "markdown",
   "id": "634c947e",
   "metadata": {},
   "source": [
    "Les tuples :\n",
    "- Les tuples sont une structure de données qui ressemble aux listes car ils sont ordonnés (l'indexation est la meme).\n",
    "- la declaration peut se faire avec ou sans parenthèses "
   ]
  },
  {
   "cell_type": "code",
   "execution_count": 1,
   "id": "ee7f5581",
   "metadata": {},
   "outputs": [
    {
     "data": {
      "text/plain": [
       "('test', 4, 67)"
      ]
     },
     "execution_count": 1,
     "metadata": {},
     "output_type": "execute_result"
    }
   ],
   "source": [
    "# Déclaration d'un tuple\n",
    "tuple_1 = (\"test\", 4 , 67)\n",
    "tuple_1"
   ]
  },
  {
   "cell_type": "code",
   "execution_count": null,
   "id": "e5bf4e9d",
   "metadata": {},
   "outputs": [],
   "source": []
  }
 ],
 "metadata": {
  "kernelspec": {
   "display_name": "Python 3 (ipykernel)",
   "language": "python",
   "name": "python3"
  },
  "language_info": {
   "codemirror_mode": {
    "name": "ipython",
    "version": 3
   },
   "file_extension": ".py",
   "mimetype": "text/x-python",
   "name": "python",
   "nbconvert_exporter": "python",
   "pygments_lexer": "ipython3",
   "version": "3.10.9"
  }
 },
 "nbformat": 4,
 "nbformat_minor": 5
}
